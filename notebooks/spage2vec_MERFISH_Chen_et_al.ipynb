{
 "cells": [
  {
   "cell_type": "code",
   "execution_count": null,
   "metadata": {},
   "outputs": [],
   "source": [
    "import os\n",
    "os.environ[\"CUDA_DEVICE_ORDER\"]=\"PCI_BUS_ID\";\n",
    " \n",
    "# The GPU id to use, usually either \"0\" or \"1\";\n",
    "os.environ[\"CUDA_VISIBLE_DEVICES\"]=\"2\";  "
   ]
  },
  {
   "cell_type": "code",
   "execution_count": null,
   "metadata": {},
   "outputs": [],
   "source": [
    "import numpy as np\n",
    "import tensorflow as tf\n",
    "import random as rn\n",
    "\n",
    "# The below is necessary for starting Numpy generated random numbers\n",
    "# in a well-defined initial state.\n",
    "\n",
    "np.random.seed(42)\n",
    "\n",
    "# The below is necessary for starting core Python generated random numbers\n",
    "# in a well-defined state.\n",
    "\n",
    "rn.seed(12345)\n",
    "\n",
    "# Force TensorFlow to use single thread.\n",
    "# Multiple threads are a potential source of non-reproducible results.\n",
    "# For further details, see: https://stackoverflow.com/questions/42022950/\n",
    "\n",
    "session_conf = tf.ConfigProto(intra_op_parallelism_threads=1,\n",
    "                              inter_op_parallelism_threads=1)\n",
    "\n",
    "from tensorflow.keras import backend as K\n",
    "\n",
    "# The below tf.set_random_seed() will make random number generation\n",
    "# in the TensorFlow backend have a well-defined initial state.\n",
    "# For further details, see:\n",
    "# https://www.tensorflow.org/api_docs/python/tf/set_random_seed\n",
    "\n",
    "tf.set_random_seed(1234)\n",
    "\n",
    "sess = tf.Session(graph=tf.get_default_graph(), config=session_conf)\n",
    "K.set_session(sess)"
   ]
  },
  {
   "cell_type": "code",
   "execution_count": null,
   "metadata": {},
   "outputs": [],
   "source": [
    "import networkx as nx\n",
    "import pandas as pd\n",
    "import numpy as np\n",
    "import os\n",
    "import random\n",
    "import matplotlib.pyplot as plt\n",
    "\n",
    "from tqdm import tqdm\n",
    "from scipy.spatial import cKDTree as KDTree\n",
    "from tensorflow.keras.utils import to_categorical\n",
    "\n",
    "import stellargraph as sg\n",
    "from stellargraph.data import EdgeSplitter\n",
    "from stellargraph.mapper import GraphSAGELinkGenerator\n",
    "from stellargraph.layer import GraphSAGE, link_classification\n",
    "from stellargraph.layer.graphsage import AttentionalAggregator\n",
    "from stellargraph.data import UniformRandomWalk\n",
    "from stellargraph.data import UnsupervisedSampler\n",
    "from sklearn.model_selection import train_test_split\n",
    "\n",
    "import tensorflow as tf\n",
    "from tensorflow import keras\n",
    "from sklearn import preprocessing, feature_extraction, model_selection\n",
    "from sklearn.linear_model import LogisticRegressionCV, LogisticRegression\n",
    "from sklearn.metrics import accuracy_score\n",
    "\n",
    "from stellargraph import globalvar"
   ]
  },
  {
   "cell_type": "code",
   "execution_count": null,
   "metadata": {},
   "outputs": [],
   "source": [
    "from numpy.random import seed\n",
    "seed(42)\n",
    "from tensorflow import set_random_seed\n",
    "set_random_seed(42)"
   ]
  },
  {
   "cell_type": "code",
   "execution_count": null,
   "metadata": {},
   "outputs": [],
   "source": [
    "def plotNeighbor(barcodes_df):\n",
    "    d_list=[]\n",
    "    for exp in barcodes_df.experiment.unique():\n",
    "        cells = barcodes_df.loc[barcodes_df.experiment==exp, 'cellID'].unique()\n",
    "        for cell in cells:\n",
    "            barcodes_df_tmp = barcodes_df.loc[(barcodes_df.experiment==exp) & (barcodes_df.cellID==cell),:].copy()\n",
    "            barcodes_df_tmp.reset_index(drop=True, inplace=True)\n",
    "            if not barcodes_df_tmp.empty:\n",
    "                # Find mean distance to nearest neighbor\n",
    "                kdT = KDTree(np.array([barcodes_df_tmp.RNACentroidX.values,barcodes_df_tmp.RNACentroidY.values]).T)\n",
    "                d,i = kdT.query(np.array([barcodes_df_tmp.RNACentroidX.values,barcodes_df_tmp.RNACentroidY.values]).T,k=2)\n",
    "                d_list.append(d)\n",
    "    d = np.vstack(d_list)\n",
    "    print(d.shape)\n",
    "    plt.hist(d[:,1],bins=200);\n",
    "    plt.axvline(x=np.percentile(d[:,1],97),c='r')\n",
    "    print(np.percentile(d[:,1],97))\n",
    "    d_th = np.percentile(d[:,1],97)\n",
    "    return d_th\n",
    "#     plt.xlim([0,5])"
   ]
  },
  {
   "cell_type": "markdown",
   "metadata": {},
   "source": [
    "## Download spatial gene expression data"
   ]
  },
  {
   "cell_type": "code",
   "execution_count": null,
   "metadata": {},
   "outputs": [],
   "source": [
    "! wget http://zhuang.harvard.edu/MERFISHData/140genesData.xlsx -O ../data/MERFISH_Chen_et_al_2015/barcodes.xlsx"
   ]
  },
  {
   "cell_type": "markdown",
   "metadata": {},
   "source": [
    "## Load spatial gene expression data"
   ]
  },
  {
   "cell_type": "code",
   "execution_count": 17,
   "metadata": {},
   "outputs": [
    {
     "data": {
      "text/html": [
       "<div>\n",
       "<style scoped>\n",
       "    .dataframe tbody tr th:only-of-type {\n",
       "        vertical-align: middle;\n",
       "    }\n",
       "\n",
       "    .dataframe tbody tr th {\n",
       "        vertical-align: top;\n",
       "    }\n",
       "\n",
       "    .dataframe thead th {\n",
       "        text-align: right;\n",
       "    }\n",
       "</style>\n",
       "<table border=\"1\" class=\"dataframe\">\n",
       "  <thead>\n",
       "    <tr style=\"text-align: right;\">\n",
       "      <th></th>\n",
       "      <th>experiment</th>\n",
       "      <th>library</th>\n",
       "      <th>cellID</th>\n",
       "      <th>intCodeword</th>\n",
       "      <th>geneName</th>\n",
       "      <th>isExactMatch</th>\n",
       "      <th>isCorrectedMatch</th>\n",
       "      <th>CellPositionX</th>\n",
       "      <th>CellPositionY</th>\n",
       "      <th>RNACentroidX</th>\n",
       "      <th>RNACentroidY</th>\n",
       "    </tr>\n",
       "  </thead>\n",
       "  <tbody>\n",
       "    <tr>\n",
       "      <th>0</th>\n",
       "      <td>1</td>\n",
       "      <td>1</td>\n",
       "      <td>0</td>\n",
       "      <td>33796</td>\n",
       "      <td>SCUBE3</td>\n",
       "      <td>0</td>\n",
       "      <td>1</td>\n",
       "      <td>475.5</td>\n",
       "      <td>630.6</td>\n",
       "      <td>78.723714</td>\n",
       "      <td>154.452489</td>\n",
       "    </tr>\n",
       "    <tr>\n",
       "      <th>1</th>\n",
       "      <td>1</td>\n",
       "      <td>1</td>\n",
       "      <td>0</td>\n",
       "      <td>34048</td>\n",
       "      <td>SCUBE3</td>\n",
       "      <td>0</td>\n",
       "      <td>1</td>\n",
       "      <td>475.5</td>\n",
       "      <td>630.6</td>\n",
       "      <td>81.297819</td>\n",
       "      <td>229.918727</td>\n",
       "    </tr>\n",
       "    <tr>\n",
       "      <th>2</th>\n",
       "      <td>1</td>\n",
       "      <td>1</td>\n",
       "      <td>0</td>\n",
       "      <td>33794</td>\n",
       "      <td>SON</td>\n",
       "      <td>0</td>\n",
       "      <td>1</td>\n",
       "      <td>475.5</td>\n",
       "      <td>630.6</td>\n",
       "      <td>92.627268</td>\n",
       "      <td>212.018163</td>\n",
       "    </tr>\n",
       "    <tr>\n",
       "      <th>3</th>\n",
       "      <td>1</td>\n",
       "      <td>1</td>\n",
       "      <td>0</td>\n",
       "      <td>32802</td>\n",
       "      <td>AFF4</td>\n",
       "      <td>0</td>\n",
       "      <td>1</td>\n",
       "      <td>475.5</td>\n",
       "      <td>630.6</td>\n",
       "      <td>101.404081</td>\n",
       "      <td>220.580093</td>\n",
       "    </tr>\n",
       "    <tr>\n",
       "      <th>4</th>\n",
       "      <td>1</td>\n",
       "      <td>1</td>\n",
       "      <td>0</td>\n",
       "      <td>33856</td>\n",
       "      <td>FOSB</td>\n",
       "      <td>0</td>\n",
       "      <td>1</td>\n",
       "      <td>475.5</td>\n",
       "      <td>630.6</td>\n",
       "      <td>107.676392</td>\n",
       "      <td>173.956553</td>\n",
       "    </tr>\n",
       "  </tbody>\n",
       "</table>\n",
       "</div>"
      ],
      "text/plain": [
       "   experiment  library  cellID  intCodeword geneName  isExactMatch  \\\n",
       "0           1        1       0        33796   SCUBE3             0   \n",
       "1           1        1       0        34048   SCUBE3             0   \n",
       "2           1        1       0        33794      SON             0   \n",
       "3           1        1       0        32802     AFF4             0   \n",
       "4           1        1       0        33856     FOSB             0   \n",
       "\n",
       "   isCorrectedMatch  CellPositionX  CellPositionY  RNACentroidX  RNACentroidY  \n",
       "0                 1          475.5          630.6     78.723714    154.452489  \n",
       "1                 1          475.5          630.6     81.297819    229.918727  \n",
       "2                 1          475.5          630.6     92.627268    212.018163  \n",
       "3                 1          475.5          630.6    101.404081    220.580093  \n",
       "4                 1          475.5          630.6    107.676392    173.956553  "
      ]
     },
     "execution_count": 17,
     "metadata": {},
     "output_type": "execute_result"
    }
   ],
   "source": [
    "barcodes_df = pd.read_excel(\"../data/MERFISH_Chen_et_al_2015/barcodes.xlsx\", sep=',', names=['experiment','library','cellID','intCodeword','geneName','isExactMatch','isCorrectedMatch','CellPositionX','CellPositionY','RNACentroidX','RNACentroidY'], header=0)\n",
    "barcodes_df.shape"
   ]
  },
  {
   "cell_type": "code",
   "execution_count": null,
   "metadata": {},
   "outputs": [],
   "source": [
    "# Remove unsassigned barcodes in Moffit et al.\n",
    "remove_genes = ['blank001', 'blank002', 'blank003', 'blank004', 'blank005',\n",
    "       'notarget001', 'notarget002', 'notarget003', 'notarget004',\n",
    "       'notarget005']\n",
    "barcodes_df = barcodes_df[~barcodes_df.geneName.isin(remove_genes)]\n",
    "barcodes_df.reset_index(drop=True, inplace=True)\n",
    "barcodes_df.shape"
   ]
  },
  {
   "cell_type": "code",
   "execution_count": null,
   "metadata": {},
   "outputs": [],
   "source": [
    "d_th = plotNeighbor(barcodes_df)"
   ]
  },
  {
   "cell_type": "code",
   "execution_count": null,
   "metadata": {},
   "outputs": [],
   "source": [
    "def buildGraph(barcodes_df, d_th):\n",
    "    G = nx.Graph()\n",
    "    n =0\n",
    "    for exp in barcodes_df.experiment.unique():\n",
    "        cells = barcodes_df.loc[barcodes_df.experiment==exp, 'cellID'].unique()\n",
    "        for cell in cells:\n",
    "            barcodes_df_tmp = barcodes_df.loc[(barcodes_df.experiment==exp) & (barcodes_df.cellID==cell),:].copy()\n",
    "            barcodes_df_tmp.reset_index(drop=True, inplace=True)\n",
    "            \n",
    "            if not barcodes_df_tmp.empty:\n",
    "                gene_list = barcodes_df.geneName.unique()\n",
    "                # add attributes to df\n",
    "                one_hot_encoding = dict(zip(gene_list,to_categorical(np.arange(gene_list.shape[0]),num_classes=gene_list.shape[0]).tolist()))\n",
    "                barcodes_df_tmp[\"feature\"] = barcodes_df_tmp['geneName'].map(one_hot_encoding).tolist()\n",
    "\n",
    "                kdT = KDTree(np.array([barcodes_df_tmp.RNACentroidX.values,barcodes_df_tmp.RNACentroidY.values]).T)\n",
    "                res = kdT.query_pairs(d_th)\n",
    "                res = [(x[0]+n,x[1]+n) for x in list(res)]\n",
    "\n",
    "                # Add nodes\n",
    "                G.add_nodes_from((barcodes_df_tmp.index.values+n), test=False, val=False, label=0)\n",
    "                nx.set_node_attributes(G,dict(zip((barcodes_df_tmp.index.values+n), barcodes_df_tmp.feature)), 'feature')\n",
    "                # Add edges\n",
    "                G.add_edges_from(res)\n",
    "\n",
    "                n = n + barcodes_df_tmp.shape[0]\n",
    "\n",
    "    return G"
   ]
  },
  {
   "cell_type": "code",
   "execution_count": null,
   "metadata": {},
   "outputs": [],
   "source": [
    "G = buildGraph(barcodes_df, d_th)"
   ]
  },
  {
   "cell_type": "code",
   "execution_count": null,
   "metadata": {},
   "outputs": [],
   "source": [
    "barcodes_df.shape"
   ]
  },
  {
   "cell_type": "code",
   "execution_count": null,
   "metadata": {},
   "outputs": [],
   "source": [
    "import matplotlib.pyplot as plt\n",
    "\n",
    "plt.figure(figsize=(10,10))\n",
    "for s in range(1,4):\n",
    "    plt.subplot(3,1,s)\n",
    "    X = barcodes_df[(barcodes_df.cellID==0) & (barcodes_df.experiment==s)].RNACentroidX\n",
    "    Y = barcodes_df[(barcodes_df.cellID==0) & (barcodes_df.experiment==s)].RNACentroidY\n",
    "\n",
    "    plt.scatter(X,Y,s=0.1)\n",
    "    plt.axis('scaled')"
   ]
  },
  {
   "cell_type": "code",
   "execution_count": null,
   "metadata": {},
   "outputs": [],
   "source": [
    "G.number_of_edges()"
   ]
  },
  {
   "cell_type": "code",
   "execution_count": null,
   "metadata": {},
   "outputs": [],
   "source": [
    "G.number_of_nodes()"
   ]
  },
  {
   "cell_type": "code",
   "execution_count": null,
   "metadata": {},
   "outputs": [],
   "source": [
    "# Remove components with less than N nodes\n",
    "N=3\n",
    "for component in tqdm(list(nx.connected_components(G))):\n",
    "    if len(component)<N:\n",
    "        for node in component:\n",
    "            G.remove_node(node)"
   ]
  },
  {
   "cell_type": "code",
   "execution_count": null,
   "metadata": {},
   "outputs": [],
   "source": [
    "G.number_of_edges()"
   ]
  },
  {
   "cell_type": "code",
   "execution_count": null,
   "metadata": {},
   "outputs": [],
   "source": [
    "G.number_of_nodes()"
   ]
  },
  {
   "cell_type": "code",
   "execution_count": null,
   "metadata": {},
   "outputs": [],
   "source": [
    "np.sum(list(dict(G.degree()).values()))/G.number_of_nodes()"
   ]
  },
  {
   "cell_type": "markdown",
   "metadata": {},
   "source": [
    "#### 1. Create the Stellargraph with node features."
   ]
  },
  {
   "cell_type": "code",
   "execution_count": null,
   "metadata": {},
   "outputs": [],
   "source": [
    "G = sg.StellarGraph(G, node_features=\"feature\")"
   ]
  },
  {
   "cell_type": "code",
   "execution_count": null,
   "metadata": {},
   "outputs": [],
   "source": [
    "print(G.info())"
   ]
  },
  {
   "cell_type": "markdown",
   "metadata": {},
   "source": [
    "#### 2. Specify the other optional parameter values: root nodes, the number of walks to take per node, the length of each walk, and random seed."
   ]
  },
  {
   "cell_type": "code",
   "execution_count": null,
   "metadata": {},
   "outputs": [],
   "source": [
    "nodes = list(G.nodes())\n",
    "number_of_walks = 1\n",
    "length = 2"
   ]
  },
  {
   "cell_type": "markdown",
   "metadata": {},
   "source": [
    "#### 3. Create the UnsupervisedSampler instance with the relevant parameters passed to it."
   ]
  },
  {
   "cell_type": "code",
   "execution_count": null,
   "metadata": {},
   "outputs": [],
   "source": [
    "unsupervised_samples = UnsupervisedSampler(G, nodes=nodes, length=length, number_of_walks=number_of_walks, seed=42)"
   ]
  },
  {
   "cell_type": "markdown",
   "metadata": {},
   "source": [
    "#### 4. Create a node pair generator:"
   ]
  },
  {
   "cell_type": "code",
   "execution_count": null,
   "metadata": {},
   "outputs": [],
   "source": [
    "batch_size = 50\n",
    "epochs = 3\n",
    "num_samples = [20, 10]"
   ]
  },
  {
   "cell_type": "code",
   "execution_count": null,
   "metadata": {},
   "outputs": [],
   "source": [
    "train_gen = GraphSAGELinkGenerator(G, batch_size, num_samples, seed=42).flow(unsupervised_samples)"
   ]
  },
  {
   "cell_type": "code",
   "execution_count": null,
   "metadata": {},
   "outputs": [],
   "source": [
    "layer_sizes = [50, 50]\n",
    "assert len(layer_sizes) == len(num_samples)\n",
    "\n",
    "graphsage = GraphSAGE(\n",
    "    layer_sizes=layer_sizes, generator=train_gen, aggregator=AttentionalAggregator, bias=True, dropout=0.0, normalize=\"l2\", kernel_regularizer='l1'\n",
    ")"
   ]
  },
  {
   "cell_type": "code",
   "execution_count": null,
   "metadata": {},
   "outputs": [],
   "source": [
    "# Build the model and expose input and output sockets of graphsage, for node pair inputs:\n",
    "x_inp, x_out = graphsage.build()"
   ]
  },
  {
   "cell_type": "code",
   "execution_count": null,
   "metadata": {},
   "outputs": [],
   "source": [
    "prediction = link_classification(\n",
    "    output_dim=1, output_act=\"sigmoid\", edge_embedding_method='ip'\n",
    ")(x_out)"
   ]
  },
  {
   "cell_type": "code",
   "execution_count": null,
   "metadata": {},
   "outputs": [],
   "source": [
    "import os, datetime\n",
    "\n",
    "logdir = os.path.join(\"logs\", datetime.datetime.now().strftime(\"MERFISH-%Y%m%d-%H%M%S\"))\n",
    "tensorboard_callback = tf.keras.callbacks.TensorBoard(logdir)\n",
    "earlystop_callback = tf.keras.callbacks.EarlyStopping(monitor='loss', mode='min', verbose=1, patience=1)\n",
    "\n",
    "model = keras.Model(inputs=x_inp, outputs=prediction)\n",
    "\n",
    "model.compile(\n",
    "    optimizer=keras.optimizers.Adam(lr=0.5e-4),\n",
    "    loss=keras.losses.binary_crossentropy,\n",
    "    metrics=[keras.metrics.binary_accuracy]\n",
    ")\n",
    "\n",
    "model.summary()"
   ]
  },
  {
   "cell_type": "code",
   "execution_count": null,
   "metadata": {
    "scrolled": true
   },
   "outputs": [],
   "source": [
    "import tensorflow as tf\n",
    "os.environ['TF_CPP_MIN_LOG_LEVEL'] = '3'\n",
    "\n",
    "history = model.fit_generator(\n",
    "    train_gen,\n",
    "    epochs=epochs,\n",
    "    verbose=1,\n",
    "    use_multiprocessing=True,\n",
    "    workers=12,\n",
    "    shuffle=True,\n",
    "    callbacks=[tensorboard_callback,earlystop_callback]\n",
    ")"
   ]
  },
  {
   "cell_type": "markdown",
   "metadata": {},
   "source": [
    "### Extracting node embeddings"
   ]
  },
  {
   "cell_type": "code",
   "execution_count": null,
   "metadata": {},
   "outputs": [],
   "source": [
    "from stellargraph.mapper import GraphSAGENodeGenerator\n",
    "import pandas as pd\n",
    "import numpy as np"
   ]
  },
  {
   "cell_type": "code",
   "execution_count": null,
   "metadata": {},
   "outputs": [],
   "source": [
    "x_inp_src = x_inp[0::2]\n",
    "x_out_src = x_out[0]\n",
    "embedding_model = keras.Model(inputs=x_inp_src, outputs=x_out_src)\n"
   ]
  },
  {
   "cell_type": "code",
   "execution_count": null,
   "metadata": {},
   "outputs": [],
   "source": [
    "# Save the model\n",
    "embedding_model.save('../models/MERFISH_Chen_et_al/nn_model.h5')\n",
    "\n",
    "# Recreate the exact same model purely from the file\n",
    "embedding_model = keras.models.load_model('../models/MERFISH_Chen_et_al/nn_model.h5', custom_objects={'AttentionalAggregator':AttentionalAggregator})"
   ]
  },
  {
   "cell_type": "code",
   "execution_count": null,
   "metadata": {},
   "outputs": [],
   "source": [
    "embedding_model.summary()"
   ]
  },
  {
   "cell_type": "code",
   "execution_count": null,
   "metadata": {},
   "outputs": [],
   "source": [
    "embedding_model.compile(\n",
    "    optimizer=keras.optimizers.Adam(lr=0.5e-4),\n",
    "    loss=keras.losses.binary_crossentropy,\n",
    "    metrics=[keras.metrics.binary_accuracy]\n",
    ")"
   ]
  },
  {
   "cell_type": "code",
   "execution_count": null,
   "metadata": {},
   "outputs": [],
   "source": [
    "nodes = list(G.nodes())\n",
    "node_gen = GraphSAGENodeGenerator(G, batch_size, num_samples, seed=42).flow(nodes)"
   ]
  },
  {
   "cell_type": "code",
   "execution_count": null,
   "metadata": {},
   "outputs": [],
   "source": [
    "node_embeddings = embedding_model.predict_generator(node_gen, workers=12, verbose=1)"
   ]
  },
  {
   "cell_type": "code",
   "execution_count": null,
   "metadata": {},
   "outputs": [],
   "source": [
    "np.save('../results/MERFISH_Chen_et_al/embedding_MERFISH_Chen_et_al.npy',node_embeddings)"
   ]
  },
  {
   "cell_type": "code",
   "execution_count": null,
   "metadata": {},
   "outputs": [],
   "source": [
    "quit()"
   ]
  },
  {
   "cell_type": "code",
   "execution_count": null,
   "metadata": {},
   "outputs": [],
   "source": []
  }
 ],
 "metadata": {
  "kernelspec": {
   "display_name": "Python 3",
   "language": "python",
   "name": "python3"
  },
  "language_info": {
   "codemirror_mode": {
    "name": "ipython",
    "version": 3
   },
   "file_extension": ".py",
   "mimetype": "text/x-python",
   "name": "python",
   "nbconvert_exporter": "python",
   "pygments_lexer": "ipython3",
   "version": "3.8.3"
  }
 },
 "nbformat": 4,
 "nbformat_minor": 2
}
